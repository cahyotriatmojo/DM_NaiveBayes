{
  "nbformat": 4,
  "nbformat_minor": 0,
  "metadata": {
    "colab": {
      "provenance": [],
      "toc_visible": true
    },
    "kernelspec": {
      "name": "python3",
      "display_name": "Python 3"
    },
    "language_info": {
      "name": "python"
    }
  },
  "cells": [
    {
      "cell_type": "code",
      "execution_count": 33,
      "metadata": {
        "id": "Q4m0Y8EqXu0R"
      },
      "outputs": [],
      "source": [
        "import numpy as np\n",
        "import matplotlib.pyplot as plt\n",
        "import pandas as pd"
      ]
    },
    {
      "cell_type": "code",
      "source": [
        "dataset = pd.read_csv('dataST1.csv')\n",
        "X = dataset.iloc[:, [8, 9]].values\n",
        "y = dataset.iloc[:, -1].values"
      ],
      "metadata": {
        "id": "1SHlHmwqX3FJ"
      },
      "execution_count": 34,
      "outputs": []
    },
    {
      "cell_type": "markdown",
      "source": [
        "Membaca atau mencetak kolom ke 2 dan 3...y untuk kolom terakhir"
      ],
      "metadata": {
        "id": "okogsiD4YYop"
      }
    },
    {
      "cell_type": "code",
      "source": [
        "print (y)"
      ],
      "metadata": {
        "colab": {
          "base_uri": "https://localhost:8080/"
        },
        "id": "u6nUiScEYZL4",
        "outputId": "a3fa5dfb-a917-424e-e73c-ea38e541c6d6"
      },
      "execution_count": 35,
      "outputs": [
        {
          "output_type": "stream",
          "name": "stdout",
          "text": [
            "[1 1 1 1 1 1 1 1 1 1 1 1 1 1 1 1 1 1 1 1 1 1 1 1 1 1 1 1 1 1 1 1 1 1 1 1 1\n",
            " 1 1 1 1 0 0 0 0 0 0 0 0 0 0 0 0 0 0 0 0 0 0 0 0 0 0 0 0 0 0 0 0 0 0 0 0 0\n",
            " 0 0 0 0 0 0 0 0 0 0 0 0 0 0 0 0 0 0 0 0 0 0 0 0 0]\n"
          ]
        }
      ]
    },
    {
      "cell_type": "code",
      "source": [
        "print (X)"
      ],
      "metadata": {
        "colab": {
          "base_uri": "https://localhost:8080/"
        },
        "id": "Gb9ziXVsYoUA",
        "outputId": "a16c1f66-e335-4de5-9d7a-3127aa954e80"
      },
      "execution_count": 36,
      "outputs": [
        {
          "output_type": "stream",
          "name": "stdout",
          "text": [
            "[[134.8   33.6 ]\n",
            " [106.58  23.9 ]\n",
            " [ 83.24  26.3 ]\n",
            " [103.43  27.3 ]\n",
            " [208.65  30.7 ]\n",
            " [ 74.11  20.5 ]\n",
            " [ 95.84  21.5 ]\n",
            " [205.33  31.  ]\n",
            " [116.1   27.1 ]\n",
            " [210.4   40.  ]\n",
            " [199.86  57.  ]\n",
            " [219.73  28.6 ]\n",
            " [250.89  28.1 ]\n",
            " [ 72.73  28.4 ]\n",
            " [205.35  42.2 ]\n",
            " [ 70.3   25.8 ]\n",
            " [104.86  31.9 ]\n",
            " [216.58  31.  ]\n",
            " [184.4   27.5 ]\n",
            " [ 60.98  54.  ]\n",
            " [ 97.76  29.6 ]\n",
            " [ 66.03  35.4 ]\n",
            " [ 81.95  16.9 ]\n",
            " [ 97.73  21.5 ]\n",
            " [ 70.94  34.4 ]\n",
            " [199.84  28.  ]\n",
            " [218.46  26.8 ]\n",
            " [211.06  39.3 ]\n",
            " [ 86.3   31.7 ]\n",
            " [162.14  32.6 ]\n",
            " [ 88.2   28.4 ]\n",
            " [ 91.92  35.9 ]\n",
            " [ 76.46  21.2 ]\n",
            " [197.28  34.5 ]\n",
            " [233.94  42.4 ]\n",
            " [247.51  40.5 ]\n",
            " [ 84.96  36.7 ]\n",
            " [ 57.93  30.9 ]\n",
            " [ 78.8   29.3 ]\n",
            " [ 87.8   76.  ]\n",
            " [ 78.81  19.6 ]\n",
            " [ 95.12  18.  ]\n",
            " [ 87.96  39.2 ]\n",
            " [110.89  17.6 ]\n",
            " [ 69.04  35.9 ]\n",
            " [161.28  19.1 ]\n",
            " [210.95  50.1 ]\n",
            " [ 77.59  17.7 ]\n",
            " [243.53  27.  ]\n",
            " [ 77.67  32.3 ]\n",
            " [205.84  54.6 ]\n",
            " [ 77.08  35.  ]\n",
            " [ 57.08  22.  ]\n",
            " [162.96  39.4 ]\n",
            " [ 73.5   26.1 ]\n",
            " [ 95.04  42.4 ]\n",
            " [ 85.37  33.  ]\n",
            " [ 84.62  19.7 ]\n",
            " [ 82.67  22.5 ]\n",
            " [ 57.33  24.6 ]\n",
            " [ 67.84  25.2 ]\n",
            " [ 75.7   41.8 ]\n",
            " [129.54  60.9 ]\n",
            " [ 60.22  31.5 ]\n",
            " [198.21  27.3 ]\n",
            " [109.82  23.7 ]\n",
            " [ 60.84  24.5 ]\n",
            " [ 94.61  28.4 ]\n",
            " [ 97.49  26.9 ]\n",
            " [206.72  26.7 ]\n",
            " [214.45  31.2 ]\n",
            " [ 82.9   25.  ]\n",
            " [103.26  25.4 ]\n",
            " [ 55.78  27.5 ]\n",
            " [ 73.74  16.  ]\n",
            " [149.75  27.  ]\n",
            " [ 82.34  31.6 ]\n",
            " [ 62.6   25.1 ]\n",
            " [ 94.09  30.9 ]\n",
            " [ 55.42  24.8 ]\n",
            " [ 82.18  23.4 ]\n",
            " [117.92  29.4 ]\n",
            " [114.84  18.3 ]\n",
            " [ 79.17  20.  ]\n",
            " [110.63  19.5 ]\n",
            " [190.7   36.  ]\n",
            " [ 79.81  27.7 ]\n",
            " [113.63  27.5 ]\n",
            " [141.24  28.5 ]\n",
            " [ 56.96  26.8 ]\n",
            " [203.04  33.6 ]\n",
            " [ 94.3   29.1 ]\n",
            " [ 81.51  28.5 ]\n",
            " [137.74  34.9 ]\n",
            " [ 81.84  25.1 ]\n",
            " [242.3   35.3 ]\n",
            " [102.64  26.4 ]\n",
            " [146.01  31.5 ]\n",
            " [ 75.42  40.1 ]]\n"
          ]
        }
      ]
    },
    {
      "cell_type": "code",
      "source": [
        "from sklearn.model_selection import train_test_split\n",
        "X_train, X_test, y_train, y_test = train_test_split(X, y, test_size = 0.25, random_state = 0)"
      ],
      "metadata": {
        "id": "cN4WByWMZD-H"
      },
      "execution_count": 37,
      "outputs": []
    },
    {
      "cell_type": "markdown",
      "source": [
        "data 25% dari untuk testing dan sisa nya 75% digunakan utk training.....from sklearn sebagai liberi."
      ],
      "metadata": {
        "id": "eVmdV9FoZxbW"
      }
    },
    {
      "cell_type": "code",
      "source": [
        "print(y)"
      ],
      "metadata": {
        "colab": {
          "base_uri": "https://localhost:8080/"
        },
        "id": "xK5zB0IYZghA",
        "outputId": "6b2d2ac6-1b13-4607-a739-d01ea60f419f"
      },
      "execution_count": 38,
      "outputs": [
        {
          "output_type": "stream",
          "name": "stdout",
          "text": [
            "[1 1 1 1 1 1 1 1 1 1 1 1 1 1 1 1 1 1 1 1 1 1 1 1 1 1 1 1 1 1 1 1 1 1 1 1 1\n",
            " 1 1 1 1 0 0 0 0 0 0 0 0 0 0 0 0 0 0 0 0 0 0 0 0 0 0 0 0 0 0 0 0 0 0 0 0 0\n",
            " 0 0 0 0 0 0 0 0 0 0 0 0 0 0 0 0 0 0 0 0 0 0 0 0 0]\n"
          ]
        }
      ]
    },
    {
      "cell_type": "code",
      "source": [
        "print(y_test)"
      ],
      "metadata": {
        "id": "JS1vBkrUZkCU",
        "colab": {
          "base_uri": "https://localhost:8080/"
        },
        "outputId": "afc5c85d-fbe7-4103-999b-834dbd6606d6"
      },
      "execution_count": 39,
      "outputs": [
        {
          "output_type": "stream",
          "name": "stdout",
          "text": [
            "[1 0 1 0 0 0 1 0 0 0 0 0 0 1 1 1 1 1 1 1 0 0 1 0 0]\n"
          ]
        }
      ]
    },
    {
      "cell_type": "markdown",
      "source": [
        "ada 25 karena jumlah 25% dari total data."
      ],
      "metadata": {
        "id": "6yoCrs0-bKQ3"
      }
    },
    {
      "cell_type": "code",
      "source": [
        "print(y_train)\n"
      ],
      "metadata": {
        "colab": {
          "base_uri": "https://localhost:8080/"
        },
        "id": "0m-CrOIBbt9W",
        "outputId": "af2b787c-5423-466b-8910-232f25e1c5aa"
      },
      "execution_count": 40,
      "outputs": [
        {
          "output_type": "stream",
          "name": "stdout",
          "text": [
            "[0 1 0 0 0 0 0 0 0 0 1 1 0 0 0 1 0 0 0 1 1 1 1 1 1 0 0 1 1 1 0 1 1 1 0 1 1\n",
            " 0 0 0 0 1 0 1 0 1 1 0 0 0 0 1 0 0 0 1 1 0 0 1 0 0 1 0 0 1 1 0 1 0 0 0 0 0]\n"
          ]
        }
      ]
    },
    {
      "cell_type": "markdown",
      "source": [
        "ada 75 data karena dari 75%(training) total data....y kolom terakhir."
      ],
      "metadata": {
        "id": "cyU4m4E9b22O"
      }
    },
    {
      "cell_type": "code",
      "source": [
        "print(X_train)"
      ],
      "metadata": {
        "colab": {
          "base_uri": "https://localhost:8080/"
        },
        "id": "aZy7doJmbToO",
        "outputId": "8fd05872-31a7-4e35-c3da-37d32668c80b"
      },
      "execution_count": 41,
      "outputs": [
        {
          "output_type": "stream",
          "name": "stdout",
          "text": [
            "[[243.53  27.  ]\n",
            " [ 95.84  21.5 ]\n",
            " [ 75.42  40.1 ]\n",
            " [114.84  18.3 ]\n",
            " [ 82.34  31.6 ]\n",
            " [ 67.84  25.2 ]\n",
            " [ 82.18  23.4 ]\n",
            " [ 56.96  26.8 ]\n",
            " [ 97.49  26.9 ]\n",
            " [ 77.08  35.  ]\n",
            " [211.06  39.3 ]\n",
            " [184.4   27.5 ]\n",
            " [ 85.37  33.  ]\n",
            " [ 60.22  31.5 ]\n",
            " [ 73.74  16.  ]\n",
            " [106.58  23.9 ]\n",
            " [ 75.7   41.8 ]\n",
            " [ 87.96  39.2 ]\n",
            " [ 95.12  18.  ]\n",
            " [208.65  30.7 ]\n",
            " [ 70.3   25.8 ]\n",
            " [216.58  31.  ]\n",
            " [ 78.81  19.6 ]\n",
            " [ 78.8   29.3 ]\n",
            " [ 74.11  20.5 ]\n",
            " [203.04  33.6 ]\n",
            " [ 57.33  24.6 ]\n",
            " [134.8   33.6 ]\n",
            " [233.94  42.4 ]\n",
            " [ 86.3   31.7 ]\n",
            " [205.84  54.6 ]\n",
            " [219.73  28.6 ]\n",
            " [247.51  40.5 ]\n",
            " [ 97.73  21.5 ]\n",
            " [ 57.08  22.  ]\n",
            " [199.86  57.  ]\n",
            " [ 91.92  35.9 ]\n",
            " [ 60.84  24.5 ]\n",
            " [ 84.62  19.7 ]\n",
            " [ 55.42  24.8 ]\n",
            " [190.7   36.  ]\n",
            " [ 76.46  21.2 ]\n",
            " [110.63  19.5 ]\n",
            " [205.35  42.2 ]\n",
            " [141.24  28.5 ]\n",
            " [ 60.98  54.  ]\n",
            " [162.14  32.6 ]\n",
            " [ 77.67  32.3 ]\n",
            " [102.64  26.4 ]\n",
            " [146.01  31.5 ]\n",
            " [206.72  26.7 ]\n",
            " [ 97.76  29.6 ]\n",
            " [137.74  34.9 ]\n",
            " [103.26  25.4 ]\n",
            " [ 62.6   25.1 ]\n",
            " [199.84  28.  ]\n",
            " [ 57.93  30.9 ]\n",
            " [117.92  29.4 ]\n",
            " [210.95  50.1 ]\n",
            " [ 87.8   76.  ]\n",
            " [109.82  23.7 ]\n",
            " [ 82.67  22.5 ]\n",
            " [250.89  28.1 ]\n",
            " [214.45  31.2 ]\n",
            " [113.63  27.5 ]\n",
            " [ 84.96  36.7 ]\n",
            " [ 66.03  35.4 ]\n",
            " [ 79.17  20.  ]\n",
            " [210.4   40.  ]\n",
            " [242.3   35.3 ]\n",
            " [ 94.61  28.4 ]\n",
            " [198.21  27.3 ]\n",
            " [ 77.59  17.7 ]\n",
            " [ 69.04  35.9 ]]\n"
          ]
        }
      ]
    },
    {
      "cell_type": "markdown",
      "source": [
        "ada 9 data karena dari 75% total data..Karena jarak 30 - 90 jauh maka kita perlu melakukan scaling."
      ],
      "metadata": {
        "id": "mnBIUBHibXaG"
      }
    },
    {
      "cell_type": "code",
      "source": [
        "from sklearn.preprocessing import StandardScaler\n",
        "sc = StandardScaler()\n",
        "X_train = sc.fit_transform(X_train)\n",
        "X_test = sc.transform(X_test)"
      ],
      "metadata": {
        "id": "xKpcUCIvcJuF"
      },
      "execution_count": 42,
      "outputs": []
    },
    {
      "cell_type": "code",
      "source": [
        "print(X_test)"
      ],
      "metadata": {
        "colab": {
          "base_uri": "https://localhost:8080/"
        },
        "id": "t-3UF0c1dKD9",
        "outputId": "0833d5f2-66f3-4c85-8e99-e2a54a74f88b"
      },
      "execution_count": 43,
      "outputs": [
        {
          "output_type": "stream",
          "name": "stdout",
          "text": [
            "[[ 1.53891942e+00 -4.09650611e-01]\n",
            " [-7.23489810e-01 -3.20110963e-01]\n",
            " [-6.67521086e-01 -4.59394860e-01]\n",
            " [-4.74975619e-01  1.14236995e+00]\n",
            " [ 4.17750013e-01 -3.89752912e-01]\n",
            " [-6.95750209e-01 -2.40520165e-01]\n",
            " [-3.14738630e-01  9.77407268e-02]\n",
            " [-1.11559723e+00 -3.40008663e-01]\n",
            " [-8.26452682e-01 -4.79292560e-01]\n",
            " [-6.90365463e-01 -5.78781057e-01]\n",
            " [ 6.33303031e-01  8.43904459e-01]\n",
            " [-4.87050505e-01 -1.80827067e-01]\n",
            " [-4.90477161e-01 -1.74777090e-03]\n",
            " [-8.39017090e-01 -2.50469015e-01]\n",
            " [ 1.32467179e+00  8.20107886e-03]\n",
            " [-5.86586720e-01 -2.50469015e-01]\n",
            " [-6.88570548e-01 -1.39458674e+00]\n",
            " [-8.68225258e-01  3.46461971e-01]\n",
            " [ 1.19331662e+00  3.56410821e-01]\n",
            " [-1.31330914e-01 -3.79804062e-01]\n",
            " [-2.16344633e-01 -1.32494479e+00]\n",
            " [ 8.79751085e-02  2.98290716e+00]\n",
            " [-3.38072529e-01 -3.59906362e-01]\n",
            " [-6.73069006e-01 -5.88729907e-01]\n",
            " [ 6.05889778e-01 -1.17571204e+00]]\n"
          ]
        }
      ]
    },
    {
      "cell_type": "code",
      "source": [
        "print(X_train)"
      ],
      "metadata": {
        "colab": {
          "base_uri": "https://localhost:8080/"
        },
        "id": "LJT6YLVedVBc",
        "outputId": "7dc9e494-43c4-431b-8354-564e6f7fffaa"
      },
      "execution_count": 44,
      "outputs": [
        {
          "output_type": "stream",
          "name": "stdout",
          "text": [
            "[[ 1.94799695e+00 -3.89752912e-01]\n",
            " [-4.61921689e-01 -9.36939649e-01]\n",
            " [-7.95123251e-01  9.13546408e-01]\n",
            " [-1.51890854e-01 -1.25530284e+00]\n",
            " [-6.82206757e-01  6.78941775e-02]\n",
            " [-9.18809237e-01 -5.68832208e-01]\n",
            " [-6.84817543e-01 -7.47911503e-01]\n",
            " [-1.09634268e+00 -4.09650611e-01]\n",
            " [-4.34997959e-01 -3.99701762e-01]\n",
            " [-7.68036346e-01  4.06155069e-01]\n",
            " [ 1.41817057e+00  8.33955609e-01]\n",
            " [ 9.83148353e-01 -3.40008663e-01]\n",
            " [-6.32764997e-01  2.07178074e-01]\n",
            " [-1.04314792e+00  5.79453277e-02]\n",
            " [-8.22536503e-01 -1.48412639e+00]\n",
            " [-2.86672680e-01 -6.98167255e-01]\n",
            " [-7.90554375e-01  1.08267685e+00]\n",
            " [-5.90502899e-01  8.24006760e-01]\n",
            " [-4.73670226e-01 -1.28514939e+00]\n",
            " [ 1.37884560e+00 -2.16454704e-02]\n",
            " [-8.78668402e-01 -5.09139109e-01]\n",
            " [ 1.50824268e+00  8.20107886e-03]\n",
            " [-7.39807223e-01 -1.12596779e+00]\n",
            " [-7.39970397e-01 -1.60929367e-01]\n",
            " [-8.16499061e-01 -1.03642815e+00]\n",
            " [ 1.28730492e+00  2.66871173e-01]\n",
            " [-1.09030524e+00 -6.28525306e-01]\n",
            " [ 1.73804698e-01  2.66871173e-01]\n",
            " [ 1.79151296e+00  1.14236995e+00]\n",
            " [-6.17589804e-01  7.78430272e-02]\n",
            " [ 1.33299367e+00  2.35612962e+00]\n",
            " [ 1.55964253e+00 -2.30571316e-01]\n",
            " [ 2.01294025e+00  9.53341807e-01]\n",
            " [-4.31081780e-01 -9.36939649e-01]\n",
            " [-1.09438459e+00 -8.87195400e-01]\n",
            " [ 1.23541555e+00  2.59490202e+00]\n",
            " [-5.25885946e-01  4.95694717e-01]\n",
            " [-1.03303112e+00 -6.38474156e-01]\n",
            " [-6.45003057e-01 -1.11601894e+00]\n",
            " [-1.12147150e+00 -6.08627607e-01]\n",
            " [ 1.08594805e+00  5.05643567e-01]\n",
            " [-7.78153142e-01 -9.66786198e-01]\n",
            " [-2.20587160e-01 -1.13591664e+00]\n",
            " [ 1.32499814e+00  1.12247225e+00]\n",
            " [ 2.78888834e-01 -2.40520165e-01]\n",
            " [-1.03074669e+00  2.29643653e+00]\n",
            " [ 6.19922753e-01  1.67382675e-01]\n",
            " [-7.58409073e-01  1.37536126e-01]\n",
            " [-3.50963285e-01 -4.49446010e-01]\n",
            " [ 3.56722891e-01  5.79453277e-02]\n",
            " [ 1.34735300e+00 -4.19599461e-01]\n",
            " [-4.30592258e-01 -1.31082818e-01]\n",
            " [ 2.21777890e-01  3.96206220e-01]\n",
            " [-3.40846489e-01 -5.48934508e-01]\n",
            " [-1.00431248e+00 -5.78781057e-01]\n",
            " [ 1.23508920e+00 -2.90264414e-01]\n",
            " [-1.08051479e+00 -1.74777090e-03]\n",
            " [-1.01633224e-01 -1.50980517e-01]\n",
            " [ 1.41637565e+00  1.90843138e+00]\n",
            " [-5.93113685e-01  4.48518347e+00]\n",
            " [-2.33804264e-01 -7.18064954e-01]\n",
            " [-6.76822011e-01 -8.37451151e-01]\n",
            " [ 2.06809310e+00 -2.80315564e-01]\n",
            " [ 1.47348660e+00  2.80987784e-02]\n",
            " [-1.71634923e-01 -3.40008663e-01]\n",
            " [-6.39455136e-01  5.75285516e-01]\n",
            " [-9.48343753e-01  4.45950469e-01]\n",
            " [-7.33932954e-01 -1.08617240e+00]\n",
            " [ 1.40740108e+00  9.03597558e-01]\n",
            " [ 1.92792653e+00  4.36001619e-01]\n",
            " [-4.81992107e-01 -2.50469015e-01]\n",
            " [ 1.20849182e+00 -3.59906362e-01]\n",
            " [-7.59714466e-01 -1.31499594e+00]\n",
            " [-8.99228342e-01  4.95694717e-01]]\n"
          ]
        }
      ]
    },
    {
      "cell_type": "markdown",
      "source": [
        "Hasil diatas udah di scaler."
      ],
      "metadata": {
        "id": "B3JOLZS-do6U"
      }
    },
    {
      "cell_type": "code",
      "source": [
        "from sklearn.naive_bayes import GaussianNB\n",
        "classifier = GaussianNB()\n",
        "classifier.fit(X_train, y_train)"
      ],
      "metadata": {
        "colab": {
          "base_uri": "https://localhost:8080/",
          "height": 75
        },
        "id": "YtwUPcyhd4wV",
        "outputId": "f5eb4228-ac5b-47b8-c869-67a2f57e056a"
      },
      "execution_count": 45,
      "outputs": [
        {
          "output_type": "execute_result",
          "data": {
            "text/plain": [
              "GaussianNB()"
            ],
            "text/html": [
              "<style>#sk-container-id-1 {color: black;background-color: white;}#sk-container-id-1 pre{padding: 0;}#sk-container-id-1 div.sk-toggleable {background-color: white;}#sk-container-id-1 label.sk-toggleable__label {cursor: pointer;display: block;width: 100%;margin-bottom: 0;padding: 0.3em;box-sizing: border-box;text-align: center;}#sk-container-id-1 label.sk-toggleable__label-arrow:before {content: \"▸\";float: left;margin-right: 0.25em;color: #696969;}#sk-container-id-1 label.sk-toggleable__label-arrow:hover:before {color: black;}#sk-container-id-1 div.sk-estimator:hover label.sk-toggleable__label-arrow:before {color: black;}#sk-container-id-1 div.sk-toggleable__content {max-height: 0;max-width: 0;overflow: hidden;text-align: left;background-color: #f0f8ff;}#sk-container-id-1 div.sk-toggleable__content pre {margin: 0.2em;color: black;border-radius: 0.25em;background-color: #f0f8ff;}#sk-container-id-1 input.sk-toggleable__control:checked~div.sk-toggleable__content {max-height: 200px;max-width: 100%;overflow: auto;}#sk-container-id-1 input.sk-toggleable__control:checked~label.sk-toggleable__label-arrow:before {content: \"▾\";}#sk-container-id-1 div.sk-estimator input.sk-toggleable__control:checked~label.sk-toggleable__label {background-color: #d4ebff;}#sk-container-id-1 div.sk-label input.sk-toggleable__control:checked~label.sk-toggleable__label {background-color: #d4ebff;}#sk-container-id-1 input.sk-hidden--visually {border: 0;clip: rect(1px 1px 1px 1px);clip: rect(1px, 1px, 1px, 1px);height: 1px;margin: -1px;overflow: hidden;padding: 0;position: absolute;width: 1px;}#sk-container-id-1 div.sk-estimator {font-family: monospace;background-color: #f0f8ff;border: 1px dotted black;border-radius: 0.25em;box-sizing: border-box;margin-bottom: 0.5em;}#sk-container-id-1 div.sk-estimator:hover {background-color: #d4ebff;}#sk-container-id-1 div.sk-parallel-item::after {content: \"\";width: 100%;border-bottom: 1px solid gray;flex-grow: 1;}#sk-container-id-1 div.sk-label:hover label.sk-toggleable__label {background-color: #d4ebff;}#sk-container-id-1 div.sk-serial::before {content: \"\";position: absolute;border-left: 1px solid gray;box-sizing: border-box;top: 0;bottom: 0;left: 50%;z-index: 0;}#sk-container-id-1 div.sk-serial {display: flex;flex-direction: column;align-items: center;background-color: white;padding-right: 0.2em;padding-left: 0.2em;position: relative;}#sk-container-id-1 div.sk-item {position: relative;z-index: 1;}#sk-container-id-1 div.sk-parallel {display: flex;align-items: stretch;justify-content: center;background-color: white;position: relative;}#sk-container-id-1 div.sk-item::before, #sk-container-id-1 div.sk-parallel-item::before {content: \"\";position: absolute;border-left: 1px solid gray;box-sizing: border-box;top: 0;bottom: 0;left: 50%;z-index: -1;}#sk-container-id-1 div.sk-parallel-item {display: flex;flex-direction: column;z-index: 1;position: relative;background-color: white;}#sk-container-id-1 div.sk-parallel-item:first-child::after {align-self: flex-end;width: 50%;}#sk-container-id-1 div.sk-parallel-item:last-child::after {align-self: flex-start;width: 50%;}#sk-container-id-1 div.sk-parallel-item:only-child::after {width: 0;}#sk-container-id-1 div.sk-dashed-wrapped {border: 1px dashed gray;margin: 0 0.4em 0.5em 0.4em;box-sizing: border-box;padding-bottom: 0.4em;background-color: white;}#sk-container-id-1 div.sk-label label {font-family: monospace;font-weight: bold;display: inline-block;line-height: 1.2em;}#sk-container-id-1 div.sk-label-container {text-align: center;}#sk-container-id-1 div.sk-container {/* jupyter's `normalize.less` sets `[hidden] { display: none; }` but bootstrap.min.css set `[hidden] { display: none !important; }` so we also need the `!important` here to be able to override the default hidden behavior on the sphinx rendered scikit-learn.org. See: https://github.com/scikit-learn/scikit-learn/issues/21755 */display: inline-block !important;position: relative;}#sk-container-id-1 div.sk-text-repr-fallback {display: none;}</style><div id=\"sk-container-id-1\" class=\"sk-top-container\"><div class=\"sk-text-repr-fallback\"><pre>GaussianNB()</pre><b>In a Jupyter environment, please rerun this cell to show the HTML representation or trust the notebook. <br />On GitHub, the HTML representation is unable to render, please try loading this page with nbviewer.org.</b></div><div class=\"sk-container\" hidden><div class=\"sk-item\"><div class=\"sk-estimator sk-toggleable\"><input class=\"sk-toggleable__control sk-hidden--visually\" id=\"sk-estimator-id-1\" type=\"checkbox\" checked><label for=\"sk-estimator-id-1\" class=\"sk-toggleable__label sk-toggleable__label-arrow\">GaussianNB</label><div class=\"sk-toggleable__content\"><pre>GaussianNB()</pre></div></div></div></div></div>"
            ]
          },
          "metadata": {},
          "execution_count": 45
        }
      ]
    },
    {
      "cell_type": "markdown",
      "source": [
        "Karena nomeric maka memerlukan GausssianNB....X dan y train diatas digunakan untuk menjenerit data latih nya/ utk pembeljarannya"
      ],
      "metadata": {
        "id": "FnuPmUOSd-TF"
      }
    },
    {
      "cell_type": "code",
      "source": [
        "y_pred = classifier.predict(X_test) "
      ],
      "metadata": {
        "id": "WXLEH1D-ea8F"
      },
      "execution_count": 46,
      "outputs": []
    },
    {
      "cell_type": "markdown",
      "source": [
        "Sebagai memprediksi labelnya..yang diprediksi dari data test"
      ],
      "metadata": {
        "id": "SQfkEpC3frfC"
      }
    },
    {
      "cell_type": "code",
      "source": [
        "from sklearn.metrics import confusion_matrix\n",
        "cm = confusion_matrix(y_test, y_pred)\n",
        "print(cm)"
      ],
      "metadata": {
        "colab": {
          "base_uri": "https://localhost:8080/"
        },
        "id": "epC6swMwf-uE",
        "outputId": "3890e631-4ad8-4810-95de-fe96f2f7e6e0"
      },
      "execution_count": 47,
      "outputs": [
        {
          "output_type": "stream",
          "name": "stdout",
          "text": [
            "[[11  3]\n",
            " [ 9  2]]\n"
          ]
        }
      ]
    },
    {
      "cell_type": "markdown",
      "source": [
        "Sebagai mengevaluasi model prediksi yg kita buat sebelumnya...berapa nilai akuratnya. Menghitung akurasi dari y_test(sebagai data asli) terhadap data prediksi.... 11+3+9+2 = 25 sesuai dari jumlah y_test. "
      ],
      "metadata": {
        "id": "r3nulZ6RgD10"
      }
    },
    {
      "cell_type": "code",
      "source": [
        "from matplotlib.colors import ListedColormap\n",
        "X_set, y_set = X_train, y_train\n",
        "X1, X2 = np.meshgrid(np.arange(start = X_set[:, 0].min() - 1, stop = X_set[:, 0].max() + 1, step = 0.01),\n",
        "                     np.arange(start = X_set[:, 1].min() - 1, stop = X_set[:, 1].max() + 1, step = 0.01))\n",
        "plt.contourf(X1, X2, classifier.predict(np.array([X1.ravel(), X2.ravel()]).T).reshape(X1.shape),\n",
        "             alpha = 0.75, cmap = ListedColormap(('red', 'green')))\n",
        "plt.xlim(X1.min(), X1.max())\n",
        "plt.ylim(X2.min(), X2.max())\n",
        "for i, j in enumerate(np.unique(y_set)):\n",
        "    plt.scatter(X_set[y_set == j, 0], X_set[y_set == j, 1],\n",
        "                c = ListedColormap(('red', 'green'))(i), label = j)\n",
        "plt.title('Klasifikasi Data dengan Naive Bayes (Training set)')\n",
        "plt.xlabel('Kadar Gula')\n",
        "plt.ylabel('Lemak Tubuh')\n",
        "plt.legend()\n",
        "plt.show()"
      ],
      "metadata": {
        "colab": {
          "base_uri": "https://localhost:8080/",
          "height": 527
        },
        "id": "ZFNa9WhhiUdS",
        "outputId": "3b75223a-8837-4926-d5fa-092cdb1b283b"
      },
      "execution_count": 50,
      "outputs": [
        {
          "output_type": "stream",
          "name": "stderr",
          "text": [
            "<ipython-input-50-28b9bfff9e15>:10: UserWarning: *c* argument looks like a single numeric RGB or RGBA sequence, which should be avoided as value-mapping will have precedence in case its length matches with *x* & *y*.  Please use the *color* keyword-argument or provide a 2D array with a single row if you intend to specify the same RGB or RGBA value for all points.\n",
            "  plt.scatter(X_set[y_set == j, 0], X_set[y_set == j, 1],\n"
          ]
        },
        {
          "output_type": "display_data",
          "data": {
            "text/plain": [
              "<Figure size 640x480 with 1 Axes>"
            ],
            "image/png": "[encoded data removed]"
          },
          "metadata": {}
        }
      ]
    },
    {
      "cell_type": "markdown",
      "source": [
        "red sebagai 0 dan green 1...1(yes) 0(no)"
      ],
      "metadata": {
        "id": "_HE1oZ2ekZgi"
      }
    },
    {
      "cell_type": "code",
      "source": [
        "from matplotlib.colors import ListedColormap\n",
        "X_set, y_set = X_test, y_test\n",
        "X1, X2 = np.meshgrid(np.arange(start = X_set[:, 0].min() - 1, stop = X_set[:, 0].max() + 1, step = 0.01),\n",
        "                     np.arange(start = X_set[:, 1].min() - 1, stop = X_set[:, 1].max() + 1, step = 0.01))\n",
        "plt.contourf(X1, X2, classifier.predict(np.array([X1.ravel(), X2.ravel()]).T).reshape(X1.shape),\n",
        "            alpha = 0.75, cmap = ListedColormap(('red', 'green')))\n",
        "plt.xlim(X1.min(), X1.max())\n",
        "plt.ylim(X2.min(), X2.max())\n",
        "for i, j in enumerate(np.unique(y_set)):\n",
        "    plt.scatter(X_set[y_set == j, 0], X_set[y_set == j, 1],\n",
        "                c = ListedColormap(('red', 'green'))(i), label = j)\n",
        "plt.title('Klasifikasi Data dengan Naive Bayes (Test set)')\n",
        "plt.xlabel('Kadar Gula')\n",
        "plt.ylabel('Lemak Tubuh')\n",
        "plt.legend()\n",
        "plt.show()"
      ],
      "metadata": {
        "colab": {
          "base_uri": "https://localhost:8080/",
          "height": 527
        },
        "id": "bd7Yw0-arcpO",
        "outputId": "e172f7e6-165f-44ac-849f-99a2f2871f46"
      },
      "execution_count": 52,
      "outputs": [
        {
          "output_type": "stream",
          "name": "stderr",
          "text": [
            "<ipython-input-52-7bb71a50c71d>:10: UserWarning: *c* argument looks like a single numeric RGB or RGBA sequence, which should be avoided as value-mapping will have precedence in case its length matches with *x* & *y*.  Please use the *color* keyword-argument or provide a 2D array with a single row if you intend to specify the same RGB or RGBA value for all points.\n",
            "  plt.scatter(X_set[y_set == j, 0], X_set[y_set == j, 1],\n"
          ]
        },
        {
          "output_type": "display_data",
          "data": {
            "text/plain": [
              "<Figure size 640x480 with 1 Axes>"
            ],
            "image/png": "[encoded data removed]"
          },
          "metadata": {}
        }
      ]
    }
  ]
}